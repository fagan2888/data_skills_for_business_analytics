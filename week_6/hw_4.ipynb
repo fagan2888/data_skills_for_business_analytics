{
 "cells": [
  {
   "cell_type": "code",
   "execution_count": 12,
   "metadata": {},
   "outputs": [
    {
     "name": "stdout",
     "output_type": "stream",
     "text": [
      "Please Enter a String: Python\n",
      "This is not an integer.\n"
     ]
    }
   ],
   "source": [
    "def int_or_not():\n",
    "    string = input(\"Please Enter a String: \")\n",
    "    if string.isdigit():\n",
    "        print(\"This is an integer.\")\n",
    "    else:\n",
    "        print(\"This is not an integer.\")\n",
    "        \n",
    "int_or_not()"
   ]
  },
  {
   "cell_type": "code",
   "execution_count": 13,
   "metadata": {},
   "outputs": [
    {
     "name": "stdout",
     "output_type": "stream",
     "text": [
      "Eample\n"
     ]
    }
   ],
   "source": [
    "def remove_char(string,index):\n",
    "    if string:\n",
    "        print(string[:index] + string[index + 1:])\n",
    "    else:\n",
    "        print(\"Non-Empty String\")\n",
    "        \n",
    "remove_char(\"Example\",1)"
   ]
  },
  {
   "cell_type": "code",
   "execution_count": 14,
   "metadata": {},
   "outputs": [
    {
     "name": "stdout",
     "output_type": "stream",
     "text": [
      "abcing\n",
      "stringly\n",
      "oh\n"
     ]
    }
   ],
   "source": [
    "def add_ing(string):\n",
    "    if len(string) < 3:\n",
    "        print(string)\n",
    "    elif string[-3:] == \"ing\":\n",
    "        print(string+\"ly\")\n",
    "    else:\n",
    "        print(string+\"ing\")\n",
    "        \n",
    "add_ing(\"abc\")\n",
    "add_ing(\"string\")\n",
    "add_ing(\"oh\")"
   ]
  },
  {
   "cell_type": "code",
   "execution_count": 15,
   "metadata": {},
   "outputs": [
    {
     "name": "stdout",
     "output_type": "stream",
     "text": [
      "Pyt\n"
     ]
    }
   ],
   "source": [
    "def first_half(string):\n",
    "    print(string[:int(len(string)/2)])\n",
    "    \n",
    "first_half(\"Python\")"
   ]
  },
  {
   "cell_type": "code",
   "execution_count": null,
   "metadata": {},
   "outputs": [
    {
     "name": "stdout",
     "output_type": "stream",
     "text": [
      "Enter Username: jul\n",
      "Enter Password: password\n",
      "Try Again, Not Meeting Requirements \n",
      "Enter Username: julio1\n",
      "Enter Password: password1\n",
      "Username Confirmed!\n",
      "Try Again, Not Meeting Requirements \n"
     ]
    }
   ],
   "source": [
    "def create_account():\n",
    "    confirmed, usrname_confirmed, passwrd_confirmed = 0, 0, 0\n",
    "    while not confirmed:\n",
    "        usrname = input(\"Enter Username: \")\n",
    "        pasword = input(\"Enter Password: \")\n",
    "        #________________Username Test________________#\n",
    "        if usrname[0].isalpha() and usrname.isalnum() \\\n",
    "        and (len(usrname) >= 6 and len(usrname) <= 12):\n",
    "            print(\"Username Confirmed!\")      \n",
    "            usrname_confirmed += 1\n",
    "\n",
    "        #________________Password Test________________#\n",
    "        uppr = [x for x in pasword if x.isupper()]\n",
    "        temp = ''.join(char for char in pasword if char not in \"@_$%\")\n",
    "        if pasword[0].isalpha() and temp.isalnum() \\\n",
    "        and (len(pasword) > len(temp)) and len(uppr) > 0:\n",
    "            print(\"Password Confirmed!\")\n",
    "            passwrd_confirmed += 1\n",
    "\n",
    "        #_______________Confirming Test_______________#\n",
    "        if usrname_confirmed and passwrd_confirmed:\n",
    "            confirmed += 1\n",
    "        elif not confirmed:\n",
    "            print(\"Try Again, Not Meeting Requirements\\n\")\n",
    "    print(\"Success, Account Created!\")\n",
    "    \n",
    "create_account()"
   ]
  },
  {
   "cell_type": "code",
   "execution_count": null,
   "metadata": {},
   "outputs": [],
   "source": []
  }
 ],
 "metadata": {
  "kernelspec": {
   "display_name": "Python 3",
   "language": "python",
   "name": "python3"
  },
  "language_info": {
   "codemirror_mode": {
    "name": "ipython",
    "version": 3
   },
   "file_extension": ".py",
   "mimetype": "text/x-python",
   "name": "python",
   "nbconvert_exporter": "python",
   "pygments_lexer": "ipython3",
   "version": "3.7.2"
  }
 },
 "nbformat": 4,
 "nbformat_minor": 2
}
