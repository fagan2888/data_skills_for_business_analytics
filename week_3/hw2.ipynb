{
 "cells": [
  {
   "cell_type": "code",
   "execution_count": 5,
   "metadata": {},
   "outputs": [
    {
     "name": "stdout",
     "output_type": "stream",
     "text": [
      "Enter Month Name: July\n",
      "Season: Summer\n"
     ]
    }
   ],
   "source": [
    "def Q1_seasons():\n",
    "    x  = input(\"Enter Month Name: \")\n",
    "    s1 = [\"December\",\"January\",\"February\"]\n",
    "    s2 = [\"March\",\"April\", \"May\",]\n",
    "    s3 = [\"June\",\"July\",\"August\"]\n",
    "    s4 = [\"September\",\"October\",\"November\"]\n",
    "    if x in s1:\n",
    "        print(\"Season: Winter\")\n",
    "    if x in s2:\n",
    "        print(\"Season: Spring\")\n",
    "    if x in s3:\n",
    "        print(\"Season: Summer\")\n",
    "    if x in s4:\n",
    "        print(\"Season: Autumn\")\n",
    "        \n",
    "Q1_seasons()"
   ]
  },
  {
   "cell_type": "code",
   "execution_count": 6,
   "metadata": {},
   "outputs": [
    {
     "name": "stdout",
     "output_type": "stream",
     "text": [
      "39\n",
      "36\n",
      "33\n",
      "30\n",
      "27\n",
      "24\n",
      "21\n",
      "18\n",
      "15\n",
      "12\n",
      "9\n",
      "6\n",
      "3\n"
     ]
    }
   ],
   "source": [
    "def Q2_mulitples():\n",
    "    num = 3\n",
    "    for x in range(13,0,-1):\n",
    "        print(x*num)\n",
    "        \n",
    "Q2_mulitples()"
   ]
  },
  {
   "cell_type": "code",
   "execution_count": 7,
   "metadata": {},
   "outputs": [
    {
     "name": "stdout",
     "output_type": "stream",
     "text": [
      "        1  \n",
      "\n",
      "      2 1   \n",
      "\n",
      "    3 2 1    \n",
      "\n",
      "  4 3 2 1     \n",
      "\n",
      "5 4 3 2 1      \n",
      "\n"
     ]
    }
   ],
   "source": [
    "def Q3_nested_loop():\n",
    "    lst = [5,4,3,2,1,0]\n",
    "    for x in range(1,6):\n",
    "        print(\" \"*lst[x]*2,end=\"\")\n",
    "        for y in range(x,0,-1):\n",
    "            print(y,end=\" \")\n",
    "        print(\" \"*x,end=\"\\n\\n\")\n",
    "        \n",
    "Q3_nested_loop()"
   ]
  },
  {
   "cell_type": "code",
   "execution_count": 8,
   "metadata": {},
   "outputs": [
    {
     "name": "stdout",
     "output_type": "stream",
     "text": [
      "0 1 2 4 5 7 8 9 10 "
     ]
    }
   ],
   "source": [
    "def Q4_printing():\n",
    "    for num in range(0,11):\n",
    "        if num != 3 and num != 6:\n",
    "            print(num, end=\" \")\n",
    "            \n",
    "Q4_printing()"
   ]
  },
  {
   "cell_type": "code",
   "execution_count": 9,
   "metadata": {},
   "outputs": [
    {
     "name": "stdout",
     "output_type": "stream",
     "text": [
      "Enter Numbers: \n",
      "Enter 'f' to Stop! \n",
      "\n",
      "1\n",
      "2\n",
      "3\n",
      "4\n",
      "5\n",
      "6\n",
      "7\n",
      "8\n",
      "g\n",
      "Try Again!\n",
      "f\n",
      "\n",
      "Sum:  36\n",
      "Avg:  4.5\n"
     ]
    }
   ],
   "source": [
    "def Q5_sum_avg():\n",
    "    print(\"Enter Numbers: \\nEnter 'f' to Stop! \\n\")\n",
    "    lst = []\n",
    "    f,sum = 0,0\n",
    "    while (f != 1):\n",
    "        x = input()\n",
    "        if x == \"f\":\n",
    "            f += 1\n",
    "        else:\n",
    "            try:\n",
    "                lst.append(int(x))\n",
    "            except:\n",
    "                print(\"Try Again!\")\n",
    "    for num in lst:\n",
    "        sum += num\n",
    "    print(\"\\nSum: \",sum)\n",
    "    print(\"Avg: \",(sum/len(lst)))\n",
    "    \n",
    "Q5_sum_avg()"
   ]
  },
  {
   "cell_type": "code",
   "execution_count": null,
   "metadata": {},
   "outputs": [],
   "source": []
  }
 ],
 "metadata": {
  "kernelspec": {
   "display_name": "Python 3",
   "language": "python",
   "name": "python3"
  },
  "language_info": {
   "codemirror_mode": {
    "name": "ipython",
    "version": 3
   },
   "file_extension": ".py",
   "mimetype": "text/x-python",
   "name": "python",
   "nbconvert_exporter": "python",
   "pygments_lexer": "ipython3",
   "version": "3.7.2"
  }
 },
 "nbformat": 4,
 "nbformat_minor": 2
}
