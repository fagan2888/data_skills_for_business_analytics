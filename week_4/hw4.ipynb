{
 "cells": [
  {
   "cell_type": "code",
   "execution_count": null,
   "metadata": {},
   "outputs": [],
   "source": [
    "def trinomial_algo(row,col):\n",
    "    if row == 0 and col == 0: \n",
    "        return 1\n",
    "    if col < -row or col > row: \n",
    "        return 0\n",
    "    upLeft  = trinomial_algo(row - 1, col - 1)\n",
    "    up      = trinomial_algo(row - 1, col)\n",
    "    upRight = trinomial_algo(row - 1, col + 1)\n",
    "    return upLeft + up + upRight\n",
    "\n",
    "def Q1_trinomial_triangle():\n",
    "    n = int(input(\"Enter Row Count: \"))\n",
    "    lst = []\n",
    "    for val in range(n,0,-1):\n",
    "        lst.append(val)\n",
    "    for row in range(n):\n",
    "        print(\"     \"* lst[row],end=\"\")\n",
    "        for col1 in range(-row,1):\n",
    "            x = trinomial_algo(row,col1)\n",
    "            print(\"{:4d}\".format(x), end=\" \")\n",
    "        for col2 in range(1,row+1):\n",
    "            x = trinomial_algo(row,col2)\n",
    "            print(\"{:4d}\".format(x), end=\" \")\n",
    "        print(\"\")\n",
    "\n",
    "Q1_trinomial_triangle()"
   ]
  },
  {
   "cell_type": "code",
   "execution_count": null,
   "metadata": {},
   "outputs": [],
   "source": []
  },
  {
   "cell_type": "code",
   "execution_count": null,
   "metadata": {},
   "outputs": [],
   "source": []
  }
 ],
 "metadata": {
  "kernelspec": {
   "display_name": "Python 3",
   "language": "python",
   "name": "python3"
  },
  "language_info": {
   "codemirror_mode": {
    "name": "ipython",
    "version": 3
   },
   "file_extension": ".py",
   "mimetype": "text/x-python",
   "name": "python",
   "nbconvert_exporter": "python",
   "pygments_lexer": "ipython3",
   "version": "3.7.2"
  }
 },
 "nbformat": 4,
 "nbformat_minor": 2
}
