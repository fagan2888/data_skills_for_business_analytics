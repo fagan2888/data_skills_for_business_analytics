{
 "cells": [
  {
   "cell_type": "code",
   "execution_count": 8,
   "metadata": {},
   "outputs": [],
   "source": [
    "import calendar"
   ]
  },
  {
   "cell_type": "code",
   "execution_count": 15,
   "metadata": {},
   "outputs": [
    {
     "name": "stdout",
     "output_type": "stream",
     "text": [
      "Enter Your Birthdate\n",
      "Input Month:   10\n",
      "Input Day:     21\n",
      "Input Year:    1996\n",
      "You were born on October 21 1996\n"
     ]
    }
   ],
   "source": [
    "# Question 1\n",
    "def birthday():\n",
    "    print(\"Enter Your Birthdate\")\n",
    "    month = int(input(\"Input Month:   \"))\n",
    "    day = int(input(\"Input Day:     \"))\n",
    "    year = int(input(\"Input Year:    \"))\n",
    "    print(\"You were born on\", calendar.month_name[month], day, year)\n",
    "\n",
    "birthday()"
   ]
  },
  {
   "cell_type": "code",
   "execution_count": 16,
   "metadata": {},
   "outputs": [
    {
     "name": "stdout",
     "output_type": "stream",
     "text": [
      "Enter Your Space Seperate List\n",
      "1 4 5\n",
      "Sorted:   [1.0, 4.0, 5.0]\n",
      "Median:   4.0\n"
     ]
    }
   ],
   "source": [
    "# Question 2\n",
    "def median():\n",
    "    print(\"Enter Your Space Seperate List\")\n",
    "    x = sorted([float(num) for num in input().split()])\n",
    "    print(\"Sorted:  \", x)\n",
    "    if len(x)%2 == 0: \n",
    "        a = float(x[int(len(x)/2)])\n",
    "        b = float(x[int(len(x)/2) - 1])\n",
    "        y = (a + b) / 2\n",
    "        print(\"Median:  \", y)\n",
    "    else:\n",
    "        print(\"Median:  \", x[int(len(x)/2)])\n",
    "        \n",
    "median()"
   ]
  },
  {
   "cell_type": "code",
   "execution_count": 18,
   "metadata": {},
   "outputs": [
    {
     "name": "stdout",
     "output_type": "stream",
     "text": [
      "Enter N Value:  5\n",
      "36\n"
     ]
    }
   ],
   "source": [
    "# Question 3\n",
    "def computation():\n",
    "    n = int(input(\"Enter N Value:  \"))\n",
    "    result = (n*n)+(2*n)+1\n",
    "    print(result)\n",
    "    \n",
    "computation()"
   ]
  },
  {
   "cell_type": "code",
   "execution_count": 19,
   "metadata": {},
   "outputs": [
    {
     "name": "stdout",
     "output_type": "stream",
     "text": [
      "Enter Your Desired Values\n",
      "X Value:  3\n",
      "Y Value:  9\n",
      "Calculation:   -2.0\n"
     ]
    }
   ],
   "source": [
    "# Question \n",
    "def arithmetic():\n",
    "    print(\"Enter Your Desired Values\")\n",
    "    X = int(input(\"X Value:  \"))\n",
    "    Y = int(input(\"Y Value:  \"))\n",
    "    result = (X+Y)/(X-Y)\n",
    "    print(\"Calculation:  \", result)\n",
    "    \n",
    "arithmetic()"
   ]
  },
  {
   "cell_type": "code",
   "execution_count": null,
   "metadata": {},
   "outputs": [],
   "source": []
  }
 ],
 "metadata": {
  "kernelspec": {
   "display_name": "Python 3",
   "language": "python",
   "name": "python3"
  },
  "language_info": {
   "codemirror_mode": {
    "name": "ipython",
    "version": 3
   },
   "file_extension": ".py",
   "mimetype": "text/x-python",
   "name": "python",
   "nbconvert_exporter": "python",
   "pygments_lexer": "ipython3",
   "version": "3.7.2"
  }
 },
 "nbformat": 4,
 "nbformat_minor": 2
}
